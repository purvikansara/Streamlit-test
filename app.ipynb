{
 "cells": [
  {
   "cell_type": "code",
   "execution_count": 2,
   "id": "ac5ef88d-5c2a-47e0-a57c-aadfa1f985e3",
   "metadata": {},
   "outputs": [],
   "source": [
    "#pip install streamlit"
   ]
  },
  {
   "cell_type": "code",
   "execution_count": 3,
   "id": "0f996a20-8aad-45cc-b95c-2744366e2411",
   "metadata": {},
   "outputs": [],
   "source": [
    "#pip install predict"
   ]
  },
  {
   "cell_type": "code",
   "execution_count": 1,
   "id": "9e6ef5bf-16de-48a0-8608-073864c437e4",
   "metadata": {},
   "outputs": [],
   "source": [
    "# import streamlit as st\n",
    "# import pandas as pd\n",
    "# import numpy as np\n",
    "# from prediction import predict"
   ]
  },
  {
   "cell_type": "code",
   "execution_count": null,
   "id": "50946051-0f0b-48c4-8f8e-86b220406ce6",
   "metadata": {},
   "outputs": [],
   "source": []
  },
  {
   "cell_type": "code",
   "execution_count": null,
   "id": "611f2348-3a03-4202-8561-695ca5d96271",
   "metadata": {},
   "outputs": [],
   "source": []
  }
 ],
 "metadata": {
  "kernelspec": {
   "display_name": "Python 3 (ipykernel)",
   "language": "python",
   "name": "python3"
  },
  "language_info": {
   "codemirror_mode": {
    "name": "ipython",
    "version": 3
   },
   "file_extension": ".py",
   "mimetype": "text/x-python",
   "name": "python",
   "nbconvert_exporter": "python",
   "pygments_lexer": "ipython3",
   "version": "3.10.10"
  }
 },
 "nbformat": 4,
 "nbformat_minor": 5
}
