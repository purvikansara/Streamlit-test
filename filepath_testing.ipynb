{
 "cells": [
  {
   "cell_type": "code",
   "execution_count": 1,
   "id": "7d3adb8b-6e6f-4408-addd-8834191fe94b",
   "metadata": {},
   "outputs": [
    {
     "name": "stdout",
     "output_type": "stream",
     "text": [
      "{'name': 'John', 'age': 30, 'city': 'New York', 'interests': ['reading', 'coding', 'hiking']}\n"
     ]
    }
   ],
   "source": [
    "# Testing pprint\n",
    "\n",
    "from pprint import pprint\n",
    "\n",
    "data = {'name': 'John', 'age': 30, 'city': 'New York', 'interests': ['reading', 'coding', 'hiking']}\n",
    "\n",
    "# Normal print\n",
    "print(data)\n",
    "\n"
   ]
  },
  {
   "cell_type": "code",
   "execution_count": 2,
   "id": "4c70127b-cf35-46ff-89e0-a3a60a795a15",
   "metadata": {},
   "outputs": [
    {
     "name": "stdout",
     "output_type": "stream",
     "text": [
      "{'age': 30,\n",
      " 'city': 'New York',\n",
      " 'interests': ['reading', 'coding', 'hiking'],\n",
      " 'name': 'John'}\n"
     ]
    }
   ],
   "source": [
    "# Pretty-print with pprint\n",
    "pprint(data)"
   ]
  },
  {
   "cell_type": "markdown",
   "id": "095e93c3-6f12-4bed-9298-65fdb0f13866",
   "metadata": {},
   "source": [
    "### testing config file creation"
   ]
  },
  {
   "cell_type": "code",
   "execution_count": 4,
   "id": "1d8c4e87-4524-4124-9dde-81eb02ae7808",
   "metadata": {},
   "outputs": [
    {
     "name": "stdout",
     "output_type": "stream",
     "text": [
      "{'data': {'ml': {'test': 'data/testing-data.joblib',\n",
      "                 'train': 'data/training-data.joblib'},\n",
      "          'raw': {'eda': 'data/ames-housing-dojo-for-ml-eda.csv',\n",
      "                  'full': 'data/ames-housing-dojo-for-ml.csv'}},\n",
      " 'images': {'banner': 'images/app-banner.png'},\n",
      " 'models': {'linear_regression': 'models/linear_regression/linreg.joblib',\n",
      "            'random_forest': 'models/random_forest/rf_reg.joblib'}}\n"
     ]
    }
   ],
   "source": [
    "from pprint import pprint\n",
    "FPATHS = dict(\n",
    "    data={\n",
    "        \"raw\": {\n",
    "            \"full\": \"data/ames-housing-dojo-for-ml.csv\",  # (This is the original full dataframe we already have)\n",
    "            \"eda\": \"data/ames-housing-dojo-for-ml-eda.csv\" # We haven't saved this yet\n",
    "        },\n",
    "        \"ml\": {\n",
    "            \"train\": \"data/training-data.joblib\",  # (X_train,y_train) We haven't saved this yet\n",
    "            \"test\": \"data/testing-data.joblib\",  # (X_test,y_test) We haven't saved this yet\n",
    "        },\n",
    "    },\n",
    "    models={\n",
    "        \"linear_regression\": \"models/linear_regression/linreg.joblib\", # We haven't saved this yet\n",
    "        \"random_forest\": \"models/random_forest/rf_reg.joblib\", # We haven't saved this yet\n",
    "    },\n",
    "    images={\n",
    "        \"banner\": \"images/app-banner.png\", # We haven't saved this yet\n",
    "    },\n",
    ")\n",
    "pprint(FPATHS)\n"
   ]
  },
  {
   "cell_type": "code",
   "execution_count": 5,
   "id": "985745c3-af98-4243-be3b-8581783f74fe",
   "metadata": {},
   "outputs": [],
   "source": [
    " ## Save the filepaths \n",
    "import os, json\n",
    "os.makedirs('config/', exist_ok=True)\n",
    "FPATHS_FILE = 'config/filepaths.json'\n",
    "with open(FPATHS_FILE, 'w') as f:\n",
    "    json.dump(FPATHS, f)\n",
    "\n"
   ]
  },
  {
   "cell_type": "code",
   "execution_count": 7,
   "id": "ff47d88f-38e3-480e-bf2a-d6d20220cb94",
   "metadata": {},
   "outputs": [
    {
     "data": {
      "text/plain": [
       "'config/filepaths.json'"
      ]
     },
     "execution_count": 7,
     "metadata": {},
     "output_type": "execute_result"
    }
   ],
   "source": [
    "FPATHS_FILE"
   ]
  },
  {
   "cell_type": "markdown",
   "id": "7320032a-65aa-45dc-8d39-37c7f02cd455",
   "metadata": {},
   "source": [
    "### The function below will create all of the directories (folders) specified in our dictionary"
   ]
  },
  {
   "cell_type": "markdown",
   "id": "98124b04-95b8-4cec-b2fc-e596bd7c093d",
   "metadata": {},
   "source": [
    "- isinstance(value, dict) is checking whether the variable value is an instance of the dict (dictionary) class.\n",
    "\n",
    "- if  result is True the variable data (value) is indeed an instance of the dict"
   ]
  },
  {
   "cell_type": "code",
   "execution_count": 8,
   "id": "40249ba9-2c57-4143-86f9-34ad129f0eb2",
   "metadata": {},
   "outputs": [],
   "source": [
    "import os\n",
    "def create_directories_from_paths(nested_dict):\n",
    "    \"\"\"OpenAI. (2023). ChatGPT [Large language model]. https://chat.openai.com \n",
    "    Recursively create directories for file paths in a nested dictionary.\n",
    "    Parameters:\n",
    "    nested_dict (dict): The nested dictionary containing file paths.\n",
    "    \"\"\"\n",
    "    for key, value in nested_dict.items():\n",
    "        if isinstance(value, dict):\n",
    "            # If the value is a dictionary, recurse into it\n",
    "            create_directories_from_paths(value)\n",
    "        elif isinstance(value, str):\n",
    "            # If the value is a string, treat it as a file path and get the directory path\n",
    "            directory_path = os.path.dirname(value)\n",
    "            # If the directory path is not empty and the directory does not exist, create it\n",
    "            if directory_path and not os.path.exists(directory_path):\n",
    "                os.makedirs(directory_path)\n",
    "                print(f\"Directory created: {directory_path}\")\n",
    "\n",
    "\n",
    "\n"
   ]
  },
  {
   "cell_type": "code",
   "execution_count": 9,
   "id": "90f5c354-d005-47ce-a9b1-7f4e11f4dbb6",
   "metadata": {},
   "outputs": [
    {
     "name": "stdout",
     "output_type": "stream",
     "text": [
      "Directory created: models/linear_regression\n",
      "Directory created: models/random_forest\n",
      "Directory created: images\n"
     ]
    }
   ],
   "source": [
    "# Use the function on your FPATHS dictionary\n",
    "create_directories_from_paths(FPATHS)"
   ]
  },
  {
   "cell_type": "code",
   "execution_count": 10,
   "id": "9a54af13-4527-479b-a49a-dd7a580f18e6",
   "metadata": {},
   "outputs": [
    {
     "data": {
      "text/plain": [
       "'data/ames-housing-dojo-for-ml.csv'"
      ]
     },
     "execution_count": 10,
     "metadata": {},
     "output_type": "execute_result"
    }
   ],
   "source": [
    "# We can access a file using our dictionary\n",
    "FPATHS['data']['raw']['full']\n",
    "\n"
   ]
  },
  {
   "cell_type": "markdown",
   "id": "f7b9d490-a2b2-454d-bc34-e7d01689f0d5",
   "metadata": {},
   "source": [
    "### Saving Files with Dictionary"
   ]
  },
  {
   "cell_type": "code",
   "execution_count": 11,
   "id": "52c60a76-8413-4112-add3-eb86cbcec3c6",
   "metadata": {},
   "outputs": [],
   "source": [
    "# Import standard packages\n",
    "import pandas as pd\n",
    "import numpy as np\n",
    "import matplotlib.pyplot as plt\n",
    "import seaborn as sns\n",
    "pd.set_option('display.max_columns',100)\n",
    "# Import modeling tools\n",
    "from sklearn.model_selection import train_test_split\n",
    "from sklearn.impute import SimpleImputer\n",
    "from sklearn.preprocessing import StandardScaler, OneHotEncoder, OrdinalEncoder\n",
    "from sklearn.pipeline import Pipeline, make_pipeline\n",
    "from sklearn.compose import make_column_transformer, ColumnTransformer\n",
    "from sklearn.linear_model import LinearRegression\n",
    "from sklearn.ensemble import RandomForestRegressor\n",
    "# Set DataFrames as default output\n",
    "from sklearn import set_config\n",
    "import joblib\n",
    "set_config(transform_output='pandas')\n",
    "\n"
   ]
  },
  {
   "cell_type": "code",
   "execution_count": 13,
   "id": "04f5d33a-1bd7-4eab-ab5d-5caafc03d040",
   "metadata": {},
   "outputs": [
    {
     "name": "stdout",
     "output_type": "stream",
     "text": [
      "The autoreload extension is already loaded. To reload it, use:\n",
      "  %reload_ext autoreload\n"
     ]
    },
    {
     "ename": "NameError",
     "evalue": "name 'FPATHS' is not defined",
     "output_type": "error",
     "traceback": [
      "\u001b[0;31m---------------------------------------------------------------------------\u001b[0m",
      "\u001b[0;31mNameError\u001b[0m                                 Traceback (most recent call last)",
      "Cell \u001b[0;32mIn[13], line 4\u001b[0m\n\u001b[1;32m      2\u001b[0m get_ipython()\u001b[38;5;241m.\u001b[39mrun_line_magic(\u001b[38;5;124m'\u001b[39m\u001b[38;5;124mload_ext\u001b[39m\u001b[38;5;124m'\u001b[39m, \u001b[38;5;124m'\u001b[39m\u001b[38;5;124mautoreload\u001b[39m\u001b[38;5;124m'\u001b[39m)\n\u001b[1;32m      3\u001b[0m get_ipython()\u001b[38;5;241m.\u001b[39mrun_line_magic(\u001b[38;5;124m'\u001b[39m\u001b[38;5;124mautoreload\u001b[39m\u001b[38;5;124m'\u001b[39m, \u001b[38;5;124m'\u001b[39m\u001b[38;5;124m2\u001b[39m\u001b[38;5;124m'\u001b[39m)\n\u001b[0;32m----> 4\u001b[0m \u001b[38;5;28;01mimport\u001b[39;00m \u001b[38;5;21;01mcustom_functions\u001b[39;00m \u001b[38;5;28;01mas\u001b[39;00m \u001b[38;5;21;01mfn\u001b[39;00m\n",
      "File \u001b[0;32m~/Documents/My Github/Streamlit_testing/Streamlit-test/custom_functions.py:482\u001b[0m\n\u001b[1;32m    479\u001b[0m                 \u001b[38;5;28mprint\u001b[39m(\u001b[38;5;124mf\u001b[39m\u001b[38;5;124m\"\u001b[39m\u001b[38;5;124mDirectory created: \u001b[39m\u001b[38;5;132;01m{\u001b[39;00mdirectory_path\u001b[38;5;132;01m}\u001b[39;00m\u001b[38;5;124m\"\u001b[39m)\n\u001b[1;32m    481\u001b[0m \u001b[38;5;66;03m# Use the function on your FPATHS dictionary\u001b[39;00m\n\u001b[0;32m--> 482\u001b[0m create_directories_from_paths(\u001b[43mFPATHS\u001b[49m)\n",
      "\u001b[0;31mNameError\u001b[0m: name 'FPATHS' is not defined"
     ]
    }
   ],
   "source": [
    "import os, sys\n",
    "%load_ext autoreload \n",
    "%autoreload 2\n",
    "import custom_functions as fn\n"
   ]
  },
  {
   "cell_type": "code",
   "execution_count": null,
   "id": "c3a136c8-6ce5-4131-b8e9-98b3e36d2c97",
   "metadata": {},
   "outputs": [],
   "source": []
  },
  {
   "cell_type": "code",
   "execution_count": null,
   "id": "5f7ec672-dcf7-47a4-aad2-abd60cf25b7d",
   "metadata": {},
   "outputs": [],
   "source": []
  },
  {
   "cell_type": "code",
   "execution_count": null,
   "id": "c683e03f-e106-4541-b157-1e80de1bde63",
   "metadata": {},
   "outputs": [],
   "source": []
  },
  {
   "cell_type": "code",
   "execution_count": null,
   "id": "27bb6eb7-3f0e-45e0-953a-18c8921cb19f",
   "metadata": {},
   "outputs": [],
   "source": []
  },
  {
   "cell_type": "code",
   "execution_count": null,
   "id": "ec9e1672-29dc-4a6a-b1dd-e0298b34dcb8",
   "metadata": {},
   "outputs": [],
   "source": []
  },
  {
   "cell_type": "code",
   "execution_count": null,
   "id": "409247f6-7670-43e9-bd3e-cdc4d06f7744",
   "metadata": {},
   "outputs": [],
   "source": []
  }
 ],
 "metadata": {
  "kernelspec": {
   "display_name": "Python 3 (ipykernel)",
   "language": "python",
   "name": "python3"
  },
  "language_info": {
   "codemirror_mode": {
    "name": "ipython",
    "version": 3
   },
   "file_extension": ".py",
   "mimetype": "text/x-python",
   "name": "python",
   "nbconvert_exporter": "python",
   "pygments_lexer": "ipython3",
   "version": "3.10.10"
  }
 },
 "nbformat": 4,
 "nbformat_minor": 5
}
